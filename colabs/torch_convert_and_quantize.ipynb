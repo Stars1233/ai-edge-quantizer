{
  "cells": [
    {
      "cell_type": "code",
      "execution_count": null,
      "metadata": {
        "id": "_Z6db789D_hv"
      },
      "outputs": [],
      "source": [
        "# Copyright 2024 The AI Edge Quantizer Authors.\n",
        "#\n",
        "# Licensed under the Apache License, Version 2.0 (the \"License\");\n",
        "# you may not use this file except in compliance with the License.\n",
        "# You may obtain a copy of the License at\n",
        "#\n",
        "#     http://www.apache.org/licenses/LICENSE-2.0\n",
        "#\n",
        "# Unless required by applicable law or agreed to in writing, software\n",
        "# distributed under the License is distributed on an \"AS IS\" BASIS,\n",
        "# WITHOUT WARRANTIES OR CONDITIONS OF ANY KIND, either express or implied.\n",
        "# See the License for the specific language governing permissions and\n",
        "# limitations under the License.\n",
        "# =============================================================================="
      ]
    },
    {
      "cell_type": "markdown",
      "metadata": {
        "id": "sFmwqIVcNtvT"
      },
      "source": [
        "This Colab shows how to take a PyTorch model, convert using AI Edge Torch and then quantize with AI Edge Quantizer. More details of conversion of PyTorch models to LiteRT is at https://ai.google.dev/edge/litert/models/convert_pytorch"
      ]
    },
    {
      "cell_type": "markdown",
      "metadata": {
        "id": "3lAaa1FEYgam"
      },
      "source": [
        "\u003ctable class=\"tfo-notebook-buttons\" align=\"left\"\u003e\n",
        "  \u003ctd\u003e\n",
        "    \u003ca target=\"_blank\" href=\"https://colab.research.google.com/github/google-ai-edge/ai-edge-quantizer/blob/main/colabs/torch_convert_and_quantize.ipynb\"\u003e\u003cimg src=\"https://www.tensorflow.org/images/colab_logo_32px.png\" /\u003eRun in Google Colab\u003c/a\u003e\n",
        "  \u003c/td\u003e\n",
        "  \u003ctd\u003e\n",
        "    \u003ca target=\"_blank\" href=\"https://github.com/google-ai-edge/ai-edge-quantizer/blob/main/colabs/torch_convert_and_quantize.ipynb\"\u003e\u003cimg src=\"https://www.tensorflow.org/images/GitHub-Mark-32px.png\" /\u003eView source on GitHub\u003c/a\u003e\n",
        "  \u003c/td\u003e\n",
        "\u003c/table\u003e"
      ]
    },
    {
      "cell_type": "code",
      "execution_count": null,
      "metadata": {
        "id": "HsWBIuE3EBCf"
      },
      "outputs": [],
      "source": [
        "# When running in google colab the pre-installed versions of some packages\n",
        "# might be incompatible with AI edge libraries.\n",
        "!pip uninstall -y tensorflow jax jaxlib\n",
        "!pip install ai-edge-torch-nightly\n",
        "!pip install ai-edge-quantizer-nightly\n",
        "!pip install ai-edge-model-explorer"
      ]
    },
    {
      "cell_type": "code",
      "execution_count": null,
      "metadata": {
        "id": "unHj1x85EHrA"
      },
      "outputs": [],
      "source": [
        "import ai_edge_torch\n",
        "import model_explorer\n",
        "import numpy as np\n",
        "import torch\n",
        "import torchvision\n",
        "\n",
        "from ai_edge_quantizer import quantizer\n",
        "from ai_edge_quantizer import recipe"
      ]
    },
    {
      "cell_type": "code",
      "execution_count": null,
      "metadata": {
        "id": "EEGjfMJJe5SC",
        "trusted": true,
        "tags": [
          "parameters"
        ],
        "editable": true
      },
      "outputs": [],
      "source": [
        "#@title Parameter to visualize LiteRT model\n",
        "visualize_model = True"
      ]
    },
    {
      "cell_type": "code",
      "execution_count": null,
      "metadata": {
        "id": "c4ad2105-ce72-4f00-8f4d-74b0d505d422"
      },
      "outputs": [],
      "source": [
        "resnet18 = torchvision.models.resnet18(torchvision.models.ResNet18_Weights.IMAGENET1K_V1).eval()\n",
        "sample_inputs = (torch.randn(1, 3, 224, 224),)\n",
        "torch_output = resnet18(*sample_inputs)\n",
        "\n",
        "# Conversion\n",
        "edge_model = ai_edge_torch.convert(resnet18, sample_inputs)\n",
        "\n",
        "# Inference\n",
        "edge_output = edge_model(*sample_inputs)\n",
        "\n",
        "# Validation\n",
        "if np.allclose(torch_output.detach().numpy(), edge_output, atol=1e-5):\n",
        "    print(\"Inference result with Pytorch and LiteRT was within tolerance\")\n",
        "else:\n",
        "    print(\"Something wrong with Pytorch --\u003e LiteRT\")\n",
        "\n",
        "# Serialization\n",
        "edge_model.export('model/resnet.tflite')\n",
        "\n",
        "# Model Explorer Visualization\n",
        "if visualize_model:\n",
        "  model_explorer.visualize('model/resnet.tflite')\n",
        "\n",
        "# Quantization (API will quantize and save a flatbuffer as *.tflite)\n",
        "qt = quantizer.Quantizer('model/resnet.tflite', recipe.dynamic_wi8_afp32())\n",
        "quant_result = qt.quantize().export_model(\"model/resnet_quantized.tflite\")"
      ]
    },
    {
      "cell_type": "markdown",
      "metadata": {
        "id": "VeBhDuzq7FCd"
      },
      "source": [
        "## Compare size of flatbuffers"
      ]
    },
    {
      "cell_type": "code",
      "execution_count": null,
      "metadata": {
        "id": "H_dG3Mh07ZGZ"
      },
      "outputs": [],
      "source": [
        "!ls -lh model/*.tflite"
      ]
    }
  ],
  "metadata": {
    "colab": {
      "provenance": [],
      "toc_visible": true
    },
    "kernelspec": {
      "name": "python3",
      "display_name": "Python 3"
    },
    "language_info": {
      "name": "python"
    }
  },
  "nbformat": 4,
  "nbformat_minor": 0
}
